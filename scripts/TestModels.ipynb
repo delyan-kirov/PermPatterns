{
 "cells": [
  {
   "cell_type": "code",
   "execution_count": 2,
   "metadata": {},
   "outputs": [],
   "source": [
    "from pathlib import Path\n",
    "from IPython.display import display, Markdown\n",
    "import os\n",
    "import Visualize as VS\n",
    "import matplotlib.pyplot as plt\n",
    "from more_itertools import flatten\n",
    "cwd= Path.cwd()"
   ]
  },
  {
   "cell_type": "code",
   "execution_count": 16,
   "metadata": {},
   "outputs": [],
   "source": [
    "# Model parameter files\n",
    "\n",
    "# Classical models as mixed models\n",
    "\n",
    "# Mesh models as mixed models\n",
    "\n",
    "# Nice special cases as mixed models"
   ]
  },
  {
   "cell_type": "markdown",
   "metadata": {},
   "source": [
    "**To do**\n",
    "\n",
    "1. Generate all mesh params"
   ]
  },
  {
   "cell_type": "code",
   "execution_count": 17,
   "metadata": {},
   "outputs": [
    {
     "name": "stdout",
     "output_type": "stream",
     "text": [
      "bivincular132.param\n",
      "\n",
      "Number of sequences is: 18\n",
      "mesh132.param\n",
      "\n",
      "Number of sequences is: 16\n",
      "vincular132.param\n",
      "\n",
      "Number of sequences is: 14\n"
     ]
    }
   ],
   "source": [
    "# Mixed models\n",
    "ModelsPath = \"./Models/\"\n",
    "ParamsPath = \"./Params/MixedClassic/\"\n",
    "Models = [\"mixed-avoidance.essence\"]\n",
    "Params = [\"bivincular132.param\",  \"mesh132.param\",  \"vincular132.param\"]\n",
    "ResultsMixed = []\n",
    "\n",
    "for param in Params: \n",
    "    !./ExecuteConjure.sh {ModelsPath + Models[0]} {ParamsPath + param}> /dev/null 2>&1\n",
    "    print(param)\n",
    "    ResultsMixed.append(VS.readSolutions())"
   ]
  },
  {
   "cell_type": "code",
   "execution_count": 18,
   "metadata": {},
   "outputs": [
    {
     "name": "stdout",
     "output_type": "stream",
     "text": [
      "bivincular-avoidance.essence\n",
      "\n",
      "Number of sequences is: 18\n",
      "mesh-avoidance.essence\n",
      "\n",
      "Number of sequences is: 16\n",
      "vincular-avoidance.essence\n",
      "\n",
      "Number of sequences is: 14\n"
     ]
    }
   ],
   "source": [
    "# Classical models\n",
    "ModelsPath = \"./Models/\"\n",
    "ParamsPath = \"./Params/Classic/\"\n",
    "Models = [\"bivincular-avoidance.essence\", \"mesh-avoidance.essence\", \"vincular-avoidance.essence\"]\n",
    "Params = [\"bivincular132.param\",  \"mesh132.param\",  \"vincular132.param\"]\n",
    "ResultsClassic = []\n",
    "\n",
    "for i in range(0,3):\n",
    "    print (Models[i])\n",
    "    !./ExecuteConjure.sh {ModelsPath + Models[i]} {ParamsPath + Params[i]} > /dev/null 2>&1\n",
    "    ResultsClassic.append(VS.readSolutions())"
   ]
  },
  {
   "cell_type": "code",
   "execution_count": 19,
   "metadata": {},
   "outputs": [
    {
     "name": "stdout",
     "output_type": "stream",
     "text": [
      "The models agree: True\n"
     ]
    }
   ],
   "source": [
    "print (\"The models agree: \" + str(ResultsMixed == ResultsClassic))"
   ]
  },
  {
   "cell_type": "markdown",
   "metadata": {},
   "source": [
    "---"
   ]
  },
  {
   "cell_type": "code",
   "execution_count": 6,
   "metadata": {},
   "outputs": [
    {
     "name": "stdout",
     "output_type": "stream",
     "text": [
      "/bin/bash: -c: line 1: syntax error near unexpected token `newline'\n",
      "/bin/bash: -c: line 1: `./ExecuteConjure.sh ../experiments/models/classic/avoidance/bivincular.essence ../experiments/params/classic/avoidance/bivincular132.param>'\n",
      "bivincular132.param\n"
     ]
    },
    {
     "ename": "FileNotFoundError",
     "evalue": "[Errno 2] No such file or directory: 'solutions'",
     "output_type": "error",
     "traceback": [
      "\u001b[0;31m---------------------------------------------------------------------------\u001b[0m",
      "\u001b[0;31mFileNotFoundError\u001b[0m                         Traceback (most recent call last)",
      "\u001b[1;32m/home/dylan/Documents/Masters/PermPatterns/scripts/TestModels.ipynb Cell 8\u001b[0m line \u001b[0;36m1\n\u001b[1;32m      <a href='vscode-notebook-cell:/home/dylan/Documents/Masters/PermPatterns/scripts/TestModels.ipynb#X11sZmlsZQ%3D%3D?line=8'>9</a>\u001b[0m get_ipython()\u001b[39m.\u001b[39msystem(\u001b[39m'\u001b[39m\u001b[39m./ExecuteConjure.sh \u001b[39m\u001b[39m{\u001b[39m\u001b[39mModelsPath + Models[0]} \u001b[39m\u001b[39m{\u001b[39m\u001b[39mParamsPath + param}>\u001b[39m\u001b[39m'\u001b[39m)\n\u001b[1;32m     <a href='vscode-notebook-cell:/home/dylan/Documents/Masters/PermPatterns/scripts/TestModels.ipynb#X11sZmlsZQ%3D%3D?line=9'>10</a>\u001b[0m \u001b[39mprint\u001b[39m(param)\n\u001b[0;32m---> <a href='vscode-notebook-cell:/home/dylan/Documents/Masters/PermPatterns/scripts/TestModels.ipynb#X11sZmlsZQ%3D%3D?line=10'>11</a>\u001b[0m ResultsMixed\u001b[39m.\u001b[39mappend(VS\u001b[39m.\u001b[39;49mreadSolutions())\n",
      "File \u001b[0;32m~/Documents/Masters/PermPatterns/scripts/Visualize.py:82\u001b[0m, in \u001b[0;36mreadSolutions\u001b[0;34m()\u001b[0m\n\u001b[1;32m     80\u001b[0m \u001b[39mdef\u001b[39;00m \u001b[39mreadSolutions\u001b[39m():\n\u001b[1;32m     81\u001b[0m     \u001b[39m# Open the solution file and print its contents\u001b[39;00m\n\u001b[0;32m---> 82\u001b[0m     \u001b[39mwith\u001b[39;00m \u001b[39mopen\u001b[39;49m(\u001b[39m\"\u001b[39;49m\u001b[39msolutions\u001b[39;49m\u001b[39m\"\u001b[39;49m, \u001b[39m\"\u001b[39;49m\u001b[39mr\u001b[39;49m\u001b[39m\"\u001b[39;49m) \u001b[39mas\u001b[39;00m solutions:\n\u001b[1;32m     83\u001b[0m         contents \u001b[39m=\u001b[39m solutions\u001b[39m.\u001b[39mread()\n\u001b[1;32m     84\u001b[0m     \u001b[39m# markdownFile = \"```\" + contents + \"```\"\u001b[39;00m\n\u001b[1;32m     85\u001b[0m     \u001b[39m# display(Markdown(markdownFile))\u001b[39;00m\n\u001b[1;32m     86\u001b[0m \n\u001b[1;32m     87\u001b[0m     \u001b[39m# Split the contents by the \"language Essence\" line to separate solutions\u001b[39;00m\n",
      "\u001b[0;31mFileNotFoundError\u001b[0m: [Errno 2] No such file or directory: 'solutions'"
     ]
    }
   ],
   "source": [
    "# Classic models\n",
    "ModelsPath = \"../experiments/models/classic/avoidance/\"\n",
    "ParamsPath = \"../experiments/params/classic/avoidance/\"\n",
    "Models = [\"bivincular.essence\"]\n",
    "Params = [\"bivincular132.param\"]\n",
    "ResultsMixed = []\n",
    "\n",
    "for param in Params: \n",
    "    !./ExecuteConjure.sh {ModelsPath + Models[0]} {ParamsPath + param}> /dev/null 2>&1\n",
    "    print(param)\n",
    "    ResultsMixed.append(VS.readSolutions())"
   ]
  },
  {
   "cell_type": "code",
   "execution_count": 4,
   "metadata": {},
   "outputs": [
    {
     "name": "stdout",
     "output_type": "stream",
     "text": [
      "bivincular.essence\n"
     ]
    },
    {
     "ename": "FileNotFoundError",
     "evalue": "[Errno 2] No such file or directory: 'solutions'",
     "output_type": "error",
     "traceback": [
      "\u001b[0;31m---------------------------------------------------------------------------\u001b[0m",
      "\u001b[0;31mFileNotFoundError\u001b[0m                         Traceback (most recent call last)",
      "\u001b[1;32m/home/dylan/Documents/Masters/PermPatterns/scripts/TestModels.ipynb Cell 9\u001b[0m line \u001b[0;36m1\n\u001b[1;32m      <a href='vscode-notebook-cell:/home/dylan/Documents/Masters/PermPatterns/scripts/TestModels.ipynb#X12sZmlsZQ%3D%3D?line=8'>9</a>\u001b[0m \u001b[39mprint\u001b[39m (Models[i])\n\u001b[1;32m     <a href='vscode-notebook-cell:/home/dylan/Documents/Masters/PermPatterns/scripts/TestModels.ipynb#X12sZmlsZQ%3D%3D?line=9'>10</a>\u001b[0m get_ipython()\u001b[39m.\u001b[39msystem(\u001b[39m'\u001b[39m\u001b[39m./ExecuteConjure.sh \u001b[39m\u001b[39m{\u001b[39m\u001b[39mModelsPath + Models[i]} \u001b[39m\u001b[39m{\u001b[39m\u001b[39mParamsPath + Params[i]} > /dev/null 2>&1\u001b[39m\u001b[39m'\u001b[39m)\n\u001b[0;32m---> <a href='vscode-notebook-cell:/home/dylan/Documents/Masters/PermPatterns/scripts/TestModels.ipynb#X12sZmlsZQ%3D%3D?line=10'>11</a>\u001b[0m ResultsClassic\u001b[39m.\u001b[39mappend(VS\u001b[39m.\u001b[39;49mreadSolutions())\n",
      "File \u001b[0;32m~/Documents/Masters/PermPatterns/scripts/Visualize.py:82\u001b[0m, in \u001b[0;36mreadSolutions\u001b[0;34m()\u001b[0m\n\u001b[1;32m     80\u001b[0m \u001b[39mdef\u001b[39;00m \u001b[39mreadSolutions\u001b[39m():\n\u001b[1;32m     81\u001b[0m     \u001b[39m# Open the solution file and print its contents\u001b[39;00m\n\u001b[0;32m---> 82\u001b[0m     \u001b[39mwith\u001b[39;00m \u001b[39mopen\u001b[39;49m(\u001b[39m\"\u001b[39;49m\u001b[39msolutions\u001b[39;49m\u001b[39m\"\u001b[39;49m, \u001b[39m\"\u001b[39;49m\u001b[39mr\u001b[39;49m\u001b[39m\"\u001b[39;49m) \u001b[39mas\u001b[39;00m solutions:\n\u001b[1;32m     83\u001b[0m         contents \u001b[39m=\u001b[39m solutions\u001b[39m.\u001b[39mread()\n\u001b[1;32m     84\u001b[0m     \u001b[39m# markdownFile = \"```\" + contents + \"```\"\u001b[39;00m\n\u001b[1;32m     85\u001b[0m     \u001b[39m# display(Markdown(markdownFile))\u001b[39;00m\n\u001b[1;32m     86\u001b[0m \n\u001b[1;32m     87\u001b[0m     \u001b[39m# Split the contents by the \"language Essence\" line to separate solutions\u001b[39;00m\n",
      "\u001b[0;31mFileNotFoundError\u001b[0m: [Errno 2] No such file or directory: 'solutions'"
     ]
    }
   ],
   "source": [
    "# Classical models\n",
    "ModelsPath = \"../experiments/models/mesh/avoidance/Bivincular/\"\n",
    "ParamsPath = \"../experiments/params/mixed/avoidance/bivincular/\"\n",
    "Models = [\"bivincular.essence\"]\n",
    "Params = [\"bivincular132.param\"]\n",
    "ResultsClassic = []\n",
    "\n",
    "for i in range(0,3):\n",
    "    print (Models[i])\n",
    "    !./ExecuteConjure.sh {ModelsPath + Models[i]} {ParamsPath + Params[i]} > /dev/null 2>&1\n",
    "    ResultsClassic.append(VS.readSolutions())"
   ]
  }
 ],
 "metadata": {
  "kernelspec": {
   "display_name": "pythonEnv",
   "language": "python",
   "name": "python3"
  },
  "language_info": {
   "codemirror_mode": {
    "name": "ipython",
    "version": 3
   },
   "file_extension": ".py",
   "mimetype": "text/x-python",
   "name": "python",
   "nbconvert_exporter": "python",
   "pygments_lexer": "ipython3",
   "version": "3.11.5"
  },
  "orig_nbformat": 4
 },
 "nbformat": 4,
 "nbformat_minor": 2
}
