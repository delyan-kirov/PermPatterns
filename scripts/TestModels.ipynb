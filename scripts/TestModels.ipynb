{
 "cells": [
  {
   "cell_type": "code",
   "execution_count": 15,
   "metadata": {},
   "outputs": [],
   "source": [
    "from pathlib import Path\n",
    "from IPython.display import display, Markdown\n",
    "import os\n",
    "import Visualize as VS\n",
    "import matplotlib.pyplot as plt\n",
    "from more_itertools import flatten\n",
    "cwd= Path.cwd()"
   ]
  },
  {
   "cell_type": "code",
   "execution_count": 16,
   "metadata": {},
   "outputs": [],
   "source": [
    "# Model parameter files\n",
    "\n",
    "# Classical models as mixed models\n",
    "\n",
    "# Mesh models as mixed models\n",
    "\n",
    "# Nice special cases as mixed models"
   ]
  },
  {
   "cell_type": "markdown",
   "metadata": {},
   "source": [
    "**To do**\n",
    "\n",
    "1. Generate all mesh params"
   ]
  },
  {
   "cell_type": "code",
   "execution_count": 17,
   "metadata": {},
   "outputs": [
    {
     "name": "stdout",
     "output_type": "stream",
     "text": [
      "bivincular132.param\n",
      "\n",
      "Number of sequences is: 18\n",
      "mesh132.param\n",
      "\n",
      "Number of sequences is: 16\n",
      "vincular132.param\n",
      "\n",
      "Number of sequences is: 14\n"
     ]
    }
   ],
   "source": [
    "# Mixed models\n",
    "ModelsPath = \"./Models/\"\n",
    "ParamsPath = \"./Params/MixedClassic/\"\n",
    "Models = [\"mixed-avoidance.essence\"]\n",
    "Params = [\"bivincular132.param\",  \"mesh132.param\",  \"vincular132.param\"]\n",
    "ResultsMixed = []\n",
    "\n",
    "for param in Params: \n",
    "    !./ExecuteConjure.sh {ModelsPath + Models[0]} {ParamsPath + param}> /dev/null 2>&1\n",
    "    print(param)\n",
    "    ResultsMixed.append(VS.readSolutions())"
   ]
  },
  {
   "cell_type": "code",
   "execution_count": 18,
   "metadata": {},
   "outputs": [
    {
     "name": "stdout",
     "output_type": "stream",
     "text": [
      "bivincular-avoidance.essence\n",
      "\n",
      "Number of sequences is: 18\n",
      "mesh-avoidance.essence\n",
      "\n",
      "Number of sequences is: 16\n",
      "vincular-avoidance.essence\n",
      "\n",
      "Number of sequences is: 14\n"
     ]
    }
   ],
   "source": [
    "# Classical models\n",
    "ModelsPath = \"./Models/\"\n",
    "ParamsPath = \"./Params/Classic/\"\n",
    "Models = [\"bivincular-avoidance.essence\", \"mesh-avoidance.essence\", \"vincular-avoidance.essence\"]\n",
    "Params = [\"bivincular132.param\",  \"mesh132.param\",  \"vincular132.param\"]\n",
    "ResultsClassic = []\n",
    "\n",
    "for i in range(0,3):\n",
    "    print (Models[i])\n",
    "    !./ExecuteConjure.sh {ModelsPath + Models[i]} {ParamsPath + Params[i]} > /dev/null 2>&1\n",
    "    ResultsClassic.append(VS.readSolutions())"
   ]
  },
  {
   "cell_type": "code",
   "execution_count": 19,
   "metadata": {},
   "outputs": [
    {
     "name": "stdout",
     "output_type": "stream",
     "text": [
      "The models agree: True\n"
     ]
    }
   ],
   "source": [
    "print (\"The models agree: \" + str(ResultsMixed == ResultsClassic))"
   ]
  }
 ],
 "metadata": {
  "kernelspec": {
   "display_name": "pythonEnv",
   "language": "python",
   "name": "python3"
  },
  "language_info": {
   "codemirror_mode": {
    "name": "ipython",
    "version": 3
   },
   "file_extension": ".py",
   "mimetype": "text/x-python",
   "name": "python",
   "nbconvert_exporter": "python",
   "pygments_lexer": "ipython3",
   "version": "3.11.5"
  },
  "orig_nbformat": 4
 },
 "nbformat": 4,
 "nbformat_minor": 2
}
