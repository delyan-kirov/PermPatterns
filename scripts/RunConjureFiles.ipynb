{
 "cells": [
  {
   "cell_type": "code",
   "execution_count": 9,
   "metadata": {},
   "outputs": [],
   "source": [
    "from pathlib import Path\n",
    "from IPython.display import display, Markdown\n",
    "import os\n",
    "import Visualize as VS\n",
    "import matplotlib.pyplot as plt\n",
    "\n",
    "cwd= Path.cwd()"
   ]
  },
  {
   "cell_type": "code",
   "execution_count": 17,
   "metadata": {},
   "outputs": [
    {
     "data": {
      "text/markdown": [
       "**Mixed Model**\n",
       "```$ This of mixed patterns to avoid\n",
       "$ mesh_avoidance = permutation + mesh pieces + vincular/bivincular indices\n",
       "given mixed_avoidance : set of (sequence(injective) of int, relation of (int * int), set of int)\n",
       "\n",
       "$ The permutation we are searching for (1..length is the permutation)\n",
       "given length : int\n",
       "find perm : sequence (size length, injective) of int(1..length)\n",
       "\n",
       "\n",
       "$ creating a padded version of perm, where position 0 contains the value 0 and position length+1 contains the value length+1\n",
       "$ this is only used for mesh avoidance/containment\n",
       "find permPadded : matrix indexed by [int(0..length+1)] of int(0..length+1)\n",
       "such that permPadded[0] = 0, permPadded[length+1] = length+1\n",
       "such that forAll i : int(1..length) . perm(i) = permPadded[i]\n",
       "\n",
       "such that\n",
       "    $ pattern is the pattern, mesh is the mesh as a relation\n",
       "    forAll (pattern, mesh, bars) in mixed_avoidance .\n",
       "    $ Build the inverse of 'pattern'. This is completely evaluated before solving.\n",
       "    exists patterninv: matrix indexed by [int(0..|pattern|+1)] of int(0..|pattern|+1),\n",
       "                patterninv[0] = 0 /\\ patterninv[|pattern|+1] = |pattern|+1 /\\\n",
       "                (forAll i: int(1..|pattern|) . patterninv[pattern(i)] = i).\n",
       "        $ Look for all places where the pattern can occur\n",
       "        forAll ix : matrix indexed by [int(0..|pattern|+1)] of int(0..length+1),\n",
       "            and([ ix[0]=0\n",
       "                , ix[|pattern|+1]=length+1\n",
       "                , forAll i : int(0..|pattern|) . ix[i] < ix[i+1]\n",
       "                , forAll n1, n2 : int(1..|pattern|) , n1 < n2 .\n",
       "                    pattern(n1) < pattern(n2) <-> permPadded[ix[n1]] < permPadded[ix[n2]]\n",
       "                ]) .\n",
       "            $ Mesh pieces\n",
       "            (\n",
       "                $ If we find the pattern, make sure there is at least one value in some cell of the mesh\n",
       "                exists (i,j) in mesh.\n",
       "                    exists z: int(ix[i]+1..ix[i+1]-1). (permPadded[ix[patterninv[j]]] <= permPadded[z] /\\ permPadded[z] <= permPadded[ix[patterninv[j+1]]])\n",
       "            ) \\/\n",
       "            $ Vincular pieces\n",
       "            !(forAll bar in bars . ix[bar] + 1 = ix[bar+1])\n",
       "```"
      ],
      "text/plain": [
       "<IPython.core.display.Markdown object>"
      ]
     },
     "metadata": {},
     "output_type": "display_data"
    }
   ],
   "source": [
    "# Open and read mixed mesh\n",
    "# ../data/testMeshPatterns/essenceModels/mixedModel.essence\n",
    "relative_path = os.path.join(cwd, \"..\", \"data\", \"testMeshPatterns\", \"essenceModels\", \"mixedModel.essence\")\n",
    "\n",
    "with open(relative_path, \"r\") as file:\n",
    "    content = file.read()\n",
    "    # print(content)\n",
    "markdownFile = \"**Mixed Model**\\n```\" + content + \"```\"\n",
    "display(Markdown(markdownFile))"
   ]
  },
  {
   "cell_type": "code",
   "execution_count": 11,
   "metadata": {},
   "outputs": [
    {
     "data": {
      "text/markdown": [
       "```$ mesh param file\n",
       "\n",
       "$ mesh_avoidance = permutation + mesh pieces + vincular indeces\n",
       "letting mixed_avoidance be { ( sequence(1,3,2), relation( (2, 1) ), {1} ) } \n",
       "letting length be 4\n",
       "\n",
       "$ n Solution for avoidance should be:\n",
       "$ Avoiding pattern\n",
       "$ test\n",
       "\n",
       "$ Contains pattern but breaks mesh\n",
       "$ test\n",
       "```"
      ],
      "text/plain": [
       "<IPython.core.display.Markdown object>"
      ]
     },
     "metadata": {},
     "output_type": "display_data"
    }
   ],
   "source": [
    "# Open and read mixed mesh param file\n",
    "# ../data/testMeshPatterns/meshParams/vinc_mesh_132_index_1.param \n",
    "relative_path = os.path.join(cwd, \"..\", \"data\", \"testMeshPatterns\", \"meshParams\", \"mixed_132.param\")\n",
    "\n",
    "with open(relative_path, \"r\") as file:\n",
    "    content = file.read()\n",
    "    # print(content)\n",
    "markdownFile = \"```\" + content + \"```\"\n",
    "display(Markdown(markdownFile))"
   ]
  },
  {
   "cell_type": "code",
   "execution_count": 12,
   "metadata": {},
   "outputs": [
    {
     "data": {
      "image/png": "[encoded data removed]",
      "text/plain": [
       "<Figure size 640x480 with 1 Axes>"
      ]
     },
     "metadata": {},
     "output_type": "display_data"
    },
    {
     "name": "stdout",
     "output_type": "stream",
     "text": [
      "[(1, 0), (1, 1), (1, 2), (1, 3)]\n"
     ]
    }
   ],
   "source": [
    "shaded_points = VS.vincularMesh(1,4) + [(2,1)]\n",
    "VS.visualize([1,3,2], shaded_points)\n",
    "print(VS.vincularMesh(1,4))"
   ]
  },
  {
   "cell_type": "markdown",
   "metadata": {},
   "source": [
    "**Parameter file**\n",
    "\n",
    "In the original model, picture above would be generated with input: \n",
    "\n",
    "```\n",
    "letting mesh_avoidance be { ( sequence(1,3,2), relation( (2, 1), (1, 0), (1, 1), (1, 2), (1, 3) ) ) } \n",
    "```"
   ]
  },
  {
   "cell_type": "code",
   "execution_count": 13,
   "metadata": {
    "vscode": {
     "languageId": "shellscript"
    }
   },
   "outputs": [],
   "source": [
    "%%bash\n",
    "./runConjure.sh mixedModel.essence mixed_132.param > /dev/null 2>&1"
   ]
  },
  {
   "cell_type": "code",
   "execution_count": 14,
   "metadata": {},
   "outputs": [
    {
     "name": "stdout",
     "output_type": "stream",
     "text": [
      "Extracted sequence: [1, 2, 3, 4]\n",
      "Extracted sequence: [2, 1, 3, 4]\n",
      "Extracted sequence: [2, 3, 1, 4]\n",
      "Extracted sequence: [2, 3, 4, 1]\n",
      "Extracted sequence: [3, 1, 2, 4]\n",
      "Extracted sequence: [3, 2, 1, 4]\n",
      "Extracted sequence: [3, 2, 4, 1]\n",
      "Extracted sequence: [3, 4, 1, 2]\n",
      "Extracted sequence: [3, 4, 2, 1]\n",
      "Extracted sequence: [4, 1, 2, 3]\n",
      "Extracted sequence: [4, 2, 1, 3]\n",
      "Extracted sequence: [4, 2, 3, 1]\n",
      "Extracted sequence: [4, 3, 1, 2]\n",
      "Extracted sequence: [4, 3, 2, 1]\n",
      "\n",
      "Number of sequences is: 14\n"
     ]
    }
   ],
   "source": [
    "def readSolutions():\n",
    "    # Open the solution file and print its contents\n",
    "    with open(\"solutions\", \"r\") as solutions:\n",
    "        contents = solutions.read()\n",
    "    # markdownFile = \"```\" + contents + \"```\"\n",
    "    # display(Markdown(markdownFile))\n",
    "\n",
    "    # Split the contents by the \"language Essence\" line to separate solutions\n",
    "    solution_blocks = contents.split(\"language Essence 1.3\\n\")\n",
    "\n",
    "    # Initialize a list to store the extracted sequences\n",
    "    sequences = []\n",
    "\n",
    "    # Iterate through each solution block\n",
    "    for solution_block in solution_blocks:\n",
    "        # Skip empty blocks\n",
    "        if solution_block.strip():\n",
    "            # Find the line containing \"letting perm be sequence\" and extract the sequence\n",
    "            sequence_line = [line for line in solution_block.splitlines() if \"letting perm be sequence\" in line]\n",
    "            if sequence_line:\n",
    "                sequence = sequence_line[0].split(\"sequence(\")[1].split(\")\")[0]\n",
    "                sequence_list = [int(item) for item in sequence.split(\", \")]\n",
    "                sequences.append(sequence_list)\n",
    "                \n",
    "    sequences = sorted(sequences)\n",
    "\n",
    "    # Print the extracted sequences\n",
    "    for sequence in sequences:\n",
    "        print(\"Extracted sequence:\", sequence)\n",
    "    print(\"\\nNumber of sequences is: \" + str(len(sequences)))\n",
    "\n",
    "readSolutions()"
   ]
  },
  {
   "cell_type": "code",
   "execution_count": 15,
   "metadata": {
    "vscode": {
     "languageId": "shellscript"
    }
   },
   "outputs": [],
   "source": [
    "%%bash\n",
    "./runConjure.sh mesh_avoidance.essence mesh_132.param > /dev/null 2>&1"
   ]
  },
  {
   "cell_type": "code",
   "execution_count": 16,
   "metadata": {},
   "outputs": [
    {
     "name": "stdout",
     "output_type": "stream",
     "text": [
      "Extracted sequence: [1, 2, 3, 4]\n",
      "Extracted sequence: [2, 1, 3, 4]\n",
      "Extracted sequence: [2, 3, 1, 4]\n",
      "Extracted sequence: [2, 3, 4, 1]\n",
      "Extracted sequence: [3, 1, 2, 4]\n",
      "Extracted sequence: [3, 2, 1, 4]\n",
      "Extracted sequence: [3, 2, 4, 1]\n",
      "Extracted sequence: [3, 4, 1, 2]\n",
      "Extracted sequence: [3, 4, 2, 1]\n",
      "Extracted sequence: [4, 1, 2, 3]\n",
      "Extracted sequence: [4, 2, 1, 3]\n",
      "Extracted sequence: [4, 2, 3, 1]\n",
      "Extracted sequence: [4, 3, 1, 2]\n",
      "Extracted sequence: [4, 3, 2, 1]\n",
      "\n",
      "Number of sequences is: 14\n"
     ]
    }
   ],
   "source": [
    "readSolutions()"
   ]
  },
  {
   "cell_type": "markdown",
   "metadata": {},
   "source": [
    "**To Do**\n",
    "\n",
    "1. Test the data\n",
    "2. Function to decompose the model"
   ]
  }
 ],
 "metadata": {
  "kernelspec": {
   "display_name": ".pythonHomeEnv",
   "language": "python",
   "name": "python3"
  },
  "language_info": {
   "codemirror_mode": {
    "name": "ipython",
    "version": 3
   },
   "file_extension": ".py",
   "mimetype": "text/x-python",
   "name": "python",
   "nbconvert_exporter": "python",
   "pygments_lexer": "ipython3",
   "version": "3.11.4"
  },
  "orig_nbformat": 4
 },
 "nbformat": 4,
 "nbformat_minor": 2
}
