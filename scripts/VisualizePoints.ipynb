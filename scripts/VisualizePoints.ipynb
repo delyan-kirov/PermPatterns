{
 "cells": [
  {
   "cell_type": "code",
   "execution_count": 1,
   "metadata": {},
   "outputs": [
    {
     "name": "stderr",
     "output_type": "stream",
     "text": [
      "Matplotlib is building the font cache; this may take a moment.\n"
     ]
    }
   ],
   "source": [
    "import matplotlib.pyplot as plt"
   ]
  },
  {
   "cell_type": "code",
   "execution_count": null,
   "metadata": {},
   "outputs": [],
   "source": [
    "def generate_points(sequence):\n",
    "    points = [(i, sequence[i-1]) for i in range(1, len(sequence) + 1)]\n",
    "    return points"
   ]
  },
  {
   "cell_type": "code",
   "execution_count": 2,
   "metadata": {},
   "outputs": [],
   "source": [
    "def plot_lattice(points):\n",
    "    # Extract the number of dimensions (n) from the first point\n",
    "    n = len(points[0])\n",
    "\n",
    "    # Create a figure and axis\n",
    "    fig, ax = plt.subplots()\n",
    "\n",
    "    # Draw the axes lines through (0, 0)\n",
    "    ax.spines['left'].set_position('zero')\n",
    "    ax.spines['bottom'].set_position('zero')\n",
    "    ax.spines['right'].set_color('none')\n",
    "    ax.spines['top'].set_color('none')\n",
    "\n",
    "    # Remove ticks\n",
    "    ax.xaxis.set_ticks_position('none')\n",
    "    ax.yaxis.set_ticks_position('none')\n",
    "\n",
    "    # Highlight the lattice points\n",
    "    for index, point in enumerate(points):\n",
    "        ax.plot(*point, 'bo', markersize=8)  # 'bo' stands for blue circle marker\n",
    "        ax.annotate(f'({\", \".join(str(coord) for coord in point)})', (point[0] + 0.1, point[1] + 0.1))\n",
    "\n",
    "    # Set plot limits and aspect ratio for a square lattice\n",
    "    max_val = max(max(p) for p in points) + 0.5\n",
    "    ax.set_xlim(-0.5, 4.5)  # Adjust the limits as per your needs\n",
    "    ax.set_ylim(-0.5, 4.5)\n",
    "    ax.set_aspect('equal')\n",
    "\n",
    "    # Remove axis labels\n",
    "    ax.set_xticklabels([])\n",
    "    ax.set_yticklabels([])\n",
    "    \n",
    "\n",
    "    # Show the plot\n",
    "    plt.grid(True)\n",
    "    plt.show()\n",
    "    \n",
    "    return fig, ax"
   ]
  },
  {
   "cell_type": "code",
   "execution_count": 3,
   "metadata": {},
   "outputs": [],
   "source": [
    "def shade_indices(points, adjacencies):\n",
    "    # Sort the points based on the first coordinate (x-coordinate)\n",
    "    points = sorted(points, key=lambda p: p[0])\n",
    "\n",
    "    # Create a set to store unique x-coordinates of the columns\n",
    "    columns = set()\n",
    "\n",
    "    # Iterate through the adjacent indices\n",
    "    for i in adjacencies:\n",
    "        # Get the corresponding points based on the index\n",
    "        point1, point2 = points[i - 1], points[i]\n",
    "\n",
    "        # Sort the points based on their y-coordinates (second coordinate)\n",
    "        point1, point2 = sorted([point1, point2], key=lambda p: p[1])\n",
    "\n",
    "        # Add the x-coordinates of the column to the set\n",
    "        for x in range(point1[0], point2[0] + 1):\n",
    "            columns.add(x)\n",
    "\n",
    "    # Generate the squares within the columns and add them to the plot\n",
    "    squares_to_shade = []\n",
    "    for x in columns:\n",
    "        for y in range(min(p[1] for p in points), max(p[1] for p in points) + 1):\n",
    "            square_points = [(x, y), (x + 1, y), (x + 1, y + 1), (x, y + 1)]\n",
    "            squares_to_shade.append(square_points)\n",
    "            x_coords, y_coords = zip(*square_points)\n",
    "            ax.fill(x_coords, y_coords, alpha=0.5, color='gray')\n",
    "\n",
    "\n",
    "    # Return the list of squares to be shaded\n",
    "    return squares_to_shade\n"
   ]
  },
  {
   "cell_type": "code",
   "execution_count": 4,
   "metadata": {},
   "outputs": [
    {
     "ename": "NameError",
     "evalue": "name 'generate_lattice_points' is not defined",
     "output_type": "error",
     "traceback": [
      "\u001b[0;31m---------------------------------------------------------------------------\u001b[0m",
      "\u001b[0;31mNameError\u001b[0m                                 Traceback (most recent call last)",
      "Cell \u001b[0;32mIn[4], line 3\u001b[0m\n\u001b[1;32m      1\u001b[0m \u001b[39m# Example usage:\u001b[39;00m\n\u001b[1;32m      2\u001b[0m sequence \u001b[39m=\u001b[39m [\u001b[39m2\u001b[39m, \u001b[39m3\u001b[39m, \u001b[39m1\u001b[39m]  \u001b[39m# Replace this with your desired sequence of non-repeating integers between 1 and n\u001b[39;00m\n\u001b[0;32m----> 3\u001b[0m lattice_points \u001b[39m=\u001b[39m generate_lattice_points(sequence)\n\u001b[1;32m      4\u001b[0m \u001b[39m# shaded_indices = set()  # An empty set indicating no shading is needed\u001b[39;00m\n\u001b[1;32m      5\u001b[0m shaded_indices \u001b[39m=\u001b[39m {\u001b[39m1\u001b[39m,\u001b[39m2\u001b[39m}\n",
      "\u001b[0;31mNameError\u001b[0m: name 'generate_lattice_points' is not defined"
     ]
    }
   ],
   "source": [
    "# Example usage:\n",
    "sequence = [2, 3, 1]  # Replace this with your desired sequence of non-repeating integers between 1 and n\n",
    "lattice_points = generate_points(sequence)\n",
    "# shaded_indices = set()  # An empty set indicating no shading is needed\n",
    "shaded_indices = {1,2}\n",
    "fig, ax = plot_lattice(lattice_points)\n",
    "squares_to_be_shaded = shade_indices(lattice_points, shaded_indices)\n",
    "print(squares_to_be_shaded)"
   ]
  }
 ],
 "metadata": {
  "kernelspec": {
   "display_name": "Python 3",
   "language": "python",
   "name": "python3"
  },
  "language_info": {
   "codemirror_mode": {
    "name": "ipython",
    "version": 3
   },
   "file_extension": ".py",
   "mimetype": "text/x-python",
   "name": "python",
   "nbconvert_exporter": "python",
   "pygments_lexer": "ipython3",
   "version": "3.11.2"
  },
  "orig_nbformat": 4
 },
 "nbformat": 4,
 "nbformat_minor": 2
}
