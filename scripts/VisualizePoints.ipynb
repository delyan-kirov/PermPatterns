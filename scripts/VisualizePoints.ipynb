{
 "cells": [
  {
   "cell_type": "code",
   "execution_count": 1,
   "metadata": {},
   "outputs": [],
   "source": [
    "import matplotlib.pyplot as plt"
   ]
  },
  {
   "cell_type": "code",
   "execution_count": 2,
   "metadata": {},
   "outputs": [],
   "source": [
    "def generate_points(sequence):\n",
    "    points = [(i, sequence[i-1]) for i in range(1, len(sequence) + 1)]\n",
    "    return points"
   ]
  },
  {
   "cell_type": "code",
   "execution_count": 3,
   "metadata": {},
   "outputs": [],
   "source": [
    "def plot_lattice(points, shaded_points):\n",
    "    # Extract the number of dimensions (n) from the first point\n",
    "    n = len(points[0])\n",
    "\n",
    "    # Create a figure and axis\n",
    "    fig, ax = plt.subplots()\n",
    "\n",
    "    # Draw the axes lines through (0, 0)\n",
    "    ax.spines['left'].set_position('zero')\n",
    "    ax.spines['bottom'].set_position('zero')\n",
    "    ax.spines['right'].set_color('none')\n",
    "    ax.spines['top'].set_color('none')\n",
    "\n",
    "    # Remove ticks\n",
    "    ax.xaxis.set_ticks_position('none')\n",
    "    ax.yaxis.set_ticks_position('none')\n",
    "\n",
    "    # Highlight the lattice points\n",
    "    for index, point in enumerate(points):\n",
    "        ax.plot(*point, 'bo', markersize=8)  # 'bo' stands for blue circle marker\n",
    "        ax.annotate(f'({\", \".join(str(coord) for coord in point)})', (point[0] + 0.1, point[1] + 0.1))\n",
    "        \n",
    "    # Shade the specified points\n",
    "    for point in shaded_points:\n",
    "        square_points = [(point[0], point[1]), (point[0], point[1] - 1), (point[0] - 1, point[1] - 1), (point[0] - 1, point[1])]\n",
    "        x_coords, y_coords = zip(*square_points)\n",
    "        ax.fill(x_coords, y_coords, alpha=0.5, color='gray')\n",
    "\n",
    "    # Set plot limits and aspect ratio for a square lattice\n",
    "    max_val = max(max(p) for p in points) + 0.5\n",
    "    ax.set_xlim(-0.5, 4.5)  # Adjust the limits as per your needs\n",
    "    ax.set_ylim(-0.5, 4.5)\n",
    "    ax.set_aspect('equal')\n",
    "\n",
    "    # Remove axis labels\n",
    "    ax.set_xticklabels([])\n",
    "    ax.set_yticklabels([])\n",
    "\n",
    "    # Show the plot\n",
    "    plt.grid(True)\n",
    "    plt.show()\n",
    "    \n",
    "    return fig, ax"
   ]
  },
  {
   "cell_type": "markdown",
   "metadata": {},
   "source": [
    "* Doesn't show patches correctly. Make sure to change it so it does. \n",
    "* Create a few test param files and run the solver, \n",
    "* Create the algorithm that actually makes this happen.\n",
    "\n",
    "For today, just make the param files and test it out, you can do the programming later anyway. This is more important. "
   ]
  },
  {
   "cell_type": "code",
   "execution_count": 4,
   "metadata": {},
   "outputs": [
    {
     "data": {
      "image/png": "[encoded data removed]",
      "text/plain": [
       "<Figure size 640x480 with 1 Axes>"
      ]
     },
     "metadata": {},
     "output_type": "display_data"
    }
   ],
   "source": [
    "# Example usage:\n",
    "sequence = [1, 3, 2]  # Replace this with your desired sequence of non-repeating integers between 1 and n\n",
    "lattice_points = generate_points(sequence)\n",
    "shaded_points = [(2,1),(2,3),(3,4),(4,1),(4,2)]  # Replace this with the points you want to shade\n",
    "fig, ax = plot_lattice(lattice_points, shaded_points)\n",
    "\n",
    "plt.show()  # To display the final plot"
   ]
  },
  {
   "cell_type": "markdown",
   "metadata": {},
   "source": [
    "```json\n",
    "language Essence 1.3\n",
    "\n",
    "letting length be 4\n",
    "$letting avoiding be { ( sequence(1,2,3), relation((1,1)) ) } $ should only be 10 contain, 14 avoid (but that is because the\n",
    "permutation is avoided)\n",
    "\n",
    "$ finally the pattern in the Bruner&Lackner paper was\n",
    "letting mesh_avoidance be { ( sequence(1,3,2), relation((1,0),(1,2),(2,3),(3,0),(3,1)) ) } $ of length 4; 8 will contain the mesh pattern, 14 will avoid the permutation + 2 will contain the permutation but violate the mesh\n",
    "\n",
    "$ 16 Solution for avoidance should be\n",
    "$ Avoiding pattern\n",
    "$ 1234, 2134, 2314 ,2341, 3124, 3214, 3241, 3412, 3421, 4123, 4213, 4231, 4312, 4321\n",
    "\n",
    "$ Contains pattern but breaks mesh\n",
    "$ 1342, 2431\n",
    "```"
   ]
  },
  {
   "cell_type": "markdown",
   "metadata": {},
   "source": [
    "*Good sequence*\n",
    "\n",
    "```json\n",
    "language Essence 1.3\n",
    "\n",
    "$Length of pattern\n",
    "letting length be 4\n",
    "\n",
    "$ seqeunce is the permuatation pattern, the relation is the avoidance, change that relation to something else. \n",
    "letting mesh_avoidance be { ( sequence(1,3,2), relation((1,0),(1,2),(2,3),(3,0),(3,1)) ) } $ of length 4; 8 will contain the mesh pattern, 14 will avoid the permutation + 2 will contain the permutation but violate the mesh\n",
    "```"
   ]
  },
  {
   "cell_type": "code",
   "execution_count": 5,
   "metadata": {},
   "outputs": [
    {
     "data": {
      "image/png": "[encoded data removed]",
      "text/plain": [
       "<Figure size 640x480 with 1 Axes>"
      ]
     },
     "metadata": {},
     "output_type": "display_data"
    },
    {
     "name": "stdout",
     "output_type": "stream",
     "text": [
      "[(2, 1), (2, 2), (2, 3), (2, 4)]\n"
     ]
    }
   ],
   "source": [
    "# Function for vincular mesh\n",
    "def vincularMesh (index, length):\n",
    "    sequence = []\n",
    "    for i in range(1,length + 1):\n",
    "        sequence.append((index + 1,i))\n",
    "    return sequence\n",
    "\n",
    "sequence = [1,3,2]\n",
    "lattice_points = generate_points(sequence)\n",
    "# shaded_points = [(2,1),(2,3),(2,2),(2,4)]  # index {1}\n",
    "shaded_points = vincularMesh(1,4)\n",
    "fig, ax = plot_lattice(lattice_points, shaded_points)\n",
    "\n",
    "plt.show()  # To display the final plot\n",
    "print(vincularMesh(1,4))"
   ]
  },
  {
   "cell_type": "markdown",
   "metadata": {},
   "source": [
    "```json\n",
    "language Essence 1.3\n",
    "\n",
    "$ vincular mesh param file\n",
    "\n",
    "$ pattern in paper, picture above\n",
    "letting mesh_avoidance be { ( sequence(1,3,2), relation( (2, 1), (2, 2), (2, 3), (2, 4) ) } \n",
    "\n",
    "$ n Solution for avoidance should be:\n",
    "$ Avoiding pattern\n",
    "$ test\n",
    "\n",
    "$ Contains pattern but breaks mesh\n",
    "$ test\n",
    "```"
   ]
  },
  {
   "cell_type": "code",
   "execution_count": 6,
   "metadata": {},
   "outputs": [
    {
     "data": {
      "image/png": "[encoded data removed]",
      "text/plain": [
       "<Figure size 640x480 with 1 Axes>"
      ]
     },
     "metadata": {},
     "output_type": "display_data"
    },
    {
     "name": "stdout",
     "output_type": "stream",
     "text": [
      "[(3, 1), (1, 2), (3, 2), (2, 2), (3, 3), (3, 2), (3, 4), (4, 2)]\n"
     ]
    }
   ],
   "source": [
    "# Function for bivincular mesh\n",
    "def biVincularMesh (index, length):\n",
    "    sequence = []\n",
    "    for i in range(1,length + 1):\n",
    "        sequence.append((index + 1,i))\n",
    "        sequence.append((i, index))\n",
    "    return sequence\n",
    "\n",
    "\n",
    "sequence = [3,1,2]\n",
    "lattice_points = generate_points(sequence)\n",
    "# shaded_points = [(3,1),(3,3),(3,2),(3,4)] + [(1,2), (2,2), (3,2), (4,2)]  # index {2}\n",
    "shaded_points = biVincularMesh(2,4)\n",
    "fig, ax = plot_lattice(lattice_points, shaded_points)\n",
    "\n",
    "plt.show()  # To display the final plot\n",
    "print(biVincularMesh(2,4))\n"
   ]
  },
  {
   "cell_type": "markdown",
   "metadata": {},
   "source": [
    "```json\n",
    "language Essence 1.3\n",
    "\n",
    "$ bivincular mesh param file\n",
    "\n",
    "$ pattern in paper, picture above\n",
    "letting mesh_avoidance be { ( sequence(1,3,2), relation( (3, 1), (1, 2), (3, 2), (2, 2), (3, 3), (3, 2), (3, 4), (4, 2) ) } \n",
    "\n",
    "$ n Solution for avoidance should be:\n",
    "$ Avoiding pattern\n",
    "$ test\n",
    "\n",
    "$ Contains pattern but breaks mesh\n",
    "$ test\n",
    "```"
   ]
  },
  {
   "cell_type": "code",
   "execution_count": 7,
   "metadata": {},
   "outputs": [
    {
     "data": {
      "image/png": "[encoded data removed]",
      "text/plain": [
       "<Figure size 640x480 with 1 Axes>"
      ]
     },
     "metadata": {},
     "output_type": "display_data"
    }
   ],
   "source": [
    "# letting mesh_avoidance be {(sequence(1,3,2), relation((0,0),(1,0),(2,0),(3,0),(1,1),(1,2),(1,3),(0,2),(2,2),(3,2)))}\n",
    "# letting correct_bivincular_containment be {(sequence(1,3,2), {1}, {0,2})}\n",
    "\n",
    "sequence = [1,3,2]\n",
    "lattice_points = generate_points(sequence)\n",
    "shaded_points = [(1,1),(2,1),(3,1),(4,1),(2,2),(2,3),(2,4),(1,3),(3,3),(4,3)]\n",
    "fig, ax = plot_lattice(lattice_points, shaded_points)\n",
    "\n",
    "plt.show()  # To display the final plot"
   ]
  },
  {
   "cell_type": "markdown",
   "metadata": {},
   "source": [
    "```json\n",
    "language Essence 1.3\n",
    "\n",
    "$ combined mesh and bivincular pattern\n",
    "\n",
    "$ vincular part: [1], mesh pieces: relation( (3,2) )\n",
    "letting length be 4\n",
    "letting vincular_avoidance be {(sequence(1,3,2), relation( (3,2) ), {1})}\n",
    "\n",
    "```"
   ]
  },
  {
   "cell_type": "code",
   "execution_count": 8,
   "metadata": {},
   "outputs": [
    {
     "data": {
      "image/png": "[encoded data removed]",
      "text/plain": [
       "<Figure size 640x480 with 1 Axes>"
      ]
     },
     "metadata": {},
     "output_type": "display_data"
    },
    {
     "name": "stdout",
     "output_type": "stream",
     "text": [
      "[(2, 1), (2, 2), (2, 3), (2, 4), (3, 2)]\n"
     ]
    }
   ],
   "source": [
    "sequence = [1,3,2]\n",
    "lattice_points = generate_points(sequence)\n",
    "shaded_points = vincularMesh(1,4) + [(3,2)]\n",
    "fig, ax = plot_lattice(lattice_points, shaded_points)\n",
    "\n",
    "plt.show()  # To display the final plot\n",
    "print (shaded_points)"
   ]
  },
  {
   "cell_type": "markdown",
   "metadata": {},
   "source": [
    "***Mixed Avoidance Model***\n",
    "\n",
    "```json\n",
    "$ This of mixed patterns to avoid\n",
    "given mesh_avoidance : set of (sequence(injective) of int, relation of (int * int), set of int)\n",
    "\n",
    "$ The permutation we are searching for (1..length is the permutation)\n",
    "given length : int\n",
    "find perm : sequence (size length, injective) of int(1..length)\n",
    "\n",
    "\n",
    "$ creating a padded version of perm, where position 0 contains the value 0 and position length+1 contains the value length+1\n",
    "$ this is only used for mesh avoidance/containment\n",
    "find permPadded : matrix indexed by [int(0..length+1)] of int(0..length+1)\n",
    "such that permPadded[0] = 0, permPadded[length+1] = length+1\n",
    "such that forAll i : int(1..length) . perm(i) = permPadded[i]\n",
    "\n",
    "such that\n",
    "    $ pattern is the pattern, mesh is the mesh as a relation\n",
    "    forAll (pattern, mesh, bars) in mixed_avoidance .\n",
    "    $ Build the inverse of 'pattern'. This is completely evaluated before solving.\n",
    "    exists patterninv: matrix indexed by [int(0..|pattern|+1)] of int(0..|pattern|+1),\n",
    "                patterninv[0] = 0 /\\ patterninv[|pattern|+1] = |pattern|+1 /\\\n",
    "                (forAll i: int(1..|pattern|) . patterninv[pattern(i)] = i).\n",
    "        $ Look for all places where the pattern can occur\n",
    "        forAll ix : matrix indexed by [int(0..|pattern|+1)] of int(0..length+1),\n",
    "            and([ ix[0]=0\n",
    "                , ix[|pattern|+1]=length+1\n",
    "                , forAll i : int(0..|pattern|) . ix[i] < ix[i+1]\n",
    "                , forAll n1, n2 : int(1..|pattern|) , n1 < n2 .\n",
    "                    pattern(n1) < pattern(n2) <-> permPadded[ix[n1]] < permPadded[ix[n2]]\n",
    "                ]) .\n",
    "            $ Mesh pieces\n",
    "            (\n",
    "                $ If we find the pattern, make sure there is at least one value in some cell of the mesh\n",
    "                exists (i,j) in mesh.\n",
    "                    exists z: int(ix[i]+1..ix[i+1]-1). (permPadded[ix[patterninv[j]]] <= permPadded[z] /\\ permPadded[z] <= permPadded[ix[patterninv[j+1]]])\n",
    "            ) \\/\n",
    "            $ Vincular pieces\n",
    "            !(forAll bar in bars . ix[bar] + 1 = ix[bar+1])\n",
    "\n",
    "```"
   ]
  }
 ],
 "metadata": {
  "kernelspec": {
   "display_name": "Python 3",
   "language": "python",
   "name": "python3"
  },
  "language_info": {
   "codemirror_mode": {
    "name": "ipython",
    "version": 3
   },
   "file_extension": ".py",
   "mimetype": "text/x-python",
   "name": "python",
   "nbconvert_exporter": "python",
   "pygments_lexer": "ipython3",
   "version": "3.11.4"
  },
  "orig_nbformat": 4
 },
 "nbformat": 4,
 "nbformat_minor": 2
}
